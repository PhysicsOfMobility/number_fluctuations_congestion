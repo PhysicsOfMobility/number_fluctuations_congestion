{
 "cells": [
  {
   "cell_type": "code",
   "execution_count": 2,
   "metadata": {},
   "outputs": [],
   "source": [
    "import numpy as np\n",
    "import networkx as nx\n",
    "import matplotlib.pyplot as plt\n",
    "import pickle as pkl"
   ]
  },
  {
   "cell_type": "markdown",
   "metadata": {},
   "source": [
    "# Simulation code"
   ]
  },
  {
   "cell_type": "markdown",
   "metadata": {},
   "source": [
    "## Functions which are used"
   ]
  },
  {
   "cell_type": "code",
   "execution_count": 13,
   "metadata": {},
   "outputs": [],
   "source": [
    "def CreateNewGraph(r_0, kj, uf, l, maxTime):\n",
    "    '''generate a graph with one street and parameters:\n",
    "    r_0: request rate,\n",
    "    kj: jam density,\n",
    "    uf: free-flow speed,\n",
    "    l: street length,\n",
    "    maxTime: duration of simulation'''\n",
    "    \n",
    "    pathDict={\n",
    "        0: {'timeSpan': SpanFunc(kj, uf, l, 0, maxTime), 'carsCount': 0}\n",
    "    }\n",
    "    \n",
    "    carList = []\n",
    "    deathCarLst = []\n",
    "    \n",
    "    return (carList, deathCarLst, pathDict)"
   ]
  },
  {
   "cell_type": "code",
   "execution_count": 16,
   "metadata": {},
   "outputs": [],
   "source": [
    "def SetInitialCars(pathDict, carList, Nstart, kj, uf, l, maxTime):\n",
    "    '''Initiate the cars which are already on the street at the beginning of a simulation;\n",
    "    pathDict: dictionary of streets in the graph,\n",
    "    carList: list of all cars which have been generated,\n",
    "    Nstart: initial number of cars,\n",
    "    kj: jam density,\n",
    "    uf: free-flow speed,\n",
    "    l: street length,\n",
    "    maxTime: duration of simulation'''\n",
    "    \n",
    "    n=1\n",
    "    if Nstart>0:\n",
    "        for n in range(1, Nstart+1):\n",
    "            chosen_path=0 #as this is a one-street network, there exists only one route option\n",
    "            \n",
    "            pathDict[chosen_path]['timeSpan']=SpanFunc(kj, uf, l, pathDict[chosen_path]['carsCount'], maxTime)\n",
    "            pathDict[chosen_path]['carsCount']+=1\n",
    "            \n",
    "            carList.append( { 'path': chosen_path,\n",
    "                    'nextEvent': currentTime + pathDict[chosen_path]['timeSpan'],\n",
    "                    'startTime': currentTime,\n",
    "                     'started': True,\n",
    "                     'travelTime': 0, \n",
    "                     'endTime':100000\n",
    "                    } )\n",
    "    \n",
    "    return (carList, pathDict)"
   ]
  },
  {
   "cell_type": "code",
   "execution_count": 5,
   "metadata": {},
   "outputs": [],
   "source": [
    "def SpanFunc(kj, uf, l, numCars, maxTime):\n",
    "    '''calculate the time span needed to travel the chosen street, depending on the current load;\n",
    "    kj: jam density,\n",
    "    uf: free-flow speed,\n",
    "    l: street length,\n",
    "    numCars: current number of cars on the street,\n",
    "    maxTime: duration of simulation'''\n",
    "    \n",
    "    t0=l/uf\n",
    "    k=numCars/l\n",
    "    \n",
    "    if numCars==0:\n",
    "        newTimeSpan=t0\n",
    "    elif k < kj:\n",
    "        newTimeSpan=(kj*l)/(uf*(kj-k))  #using Greenshields' model \n",
    "    else: \n",
    "        newTimeSpan=maxTime\n",
    "        \n",
    "    return newTimeSpan"
   ]
  },
  {
   "cell_type": "code",
   "execution_count": 6,
   "metadata": {},
   "outputs": [],
   "source": [
    "def carContinue(carList, carIdx):\n",
    "    '''This function is called when the next event is a car event;\n",
    "    carList: total list of cars generated,\n",
    "    carIdx: car currently considered'''\n",
    "    \n",
    "    car = carList[carIdx]\n",
    "    \n",
    "    if car['started']==True:  #if the car is already on the street and is, thus, now leaving it\n",
    "        #update the street network's state\n",
    "        pathDict[car['path']]['carsCount'] -=1\n",
    "        numCars = pathDict[car['path']]['carsCount']\n",
    "        path = car['path']\n",
    "        pathDict[path]['timeSpan'] = SpanFunc(kj, uf, l, numCars, maxTime)\n",
    "        \n",
    "        #update the information on the trip in the car list\n",
    "        car['endTime'] = car['nextEvent']\n",
    "        car['travelTime'] = car['endTime']-car['startTime']\n",
    "        car['nextEvent']=1000000 #don't delete car, but make sure nothing happens for it anymore\n",
    "        deathCarLst.append(carList[carIdx])\n",
    "         \n",
    "        \n",
    "    else: #if the car has not yet entered the street\n",
    "        #update the information on the trip in the car list\n",
    "        path = car['path']\n",
    "        car['nextEvent'] += pathDict[path]['timeSpan']\n",
    "        car['started']=True\n",
    "        \n",
    "        #update the street network's state\n",
    "        pathDict[path]['carsCount'] += 1\n",
    "        numCars = pathDict[path]['carsCount']\n",
    "        pathDict[path]['timeSpan'] = SpanFunc(kj, uf, l, numCars, maxTime)\n",
    "        "
   ]
  },
  {
   "cell_type": "code",
   "execution_count": 7,
   "metadata": {},
   "outputs": [],
   "source": [
    "def getNextStartEv(r_0, currentTime):\n",
    "    '''Find next timepoint at which a car starts drawing from an exponential distribution with \n",
    "    a scale depending on r_0'''\n",
    "    \n",
    "    EvInterval=np.random.exponential(1/r_0, None) #draw time interval from the exponential distribution 1/r_0 * exp(dt/r_0)\n",
    "    nextStartEv=currentTime+EvInterval\n",
    "    \n",
    "    return nextStartEv"
   ]
  },
  {
   "cell_type": "code",
   "execution_count": 8,
   "metadata": {},
   "outputs": [],
   "source": [
    "def generateCar(currentTime):\n",
    "    '''Add a car to the list of all cars, that will immediately start and enter the street'''\n",
    "    chosen_path=0\n",
    "    \n",
    "    carList.append( { 'path': chosen_path,\n",
    "                    'nextEvent': currentTime,\n",
    "                    'startTime': currentTime,\n",
    "                     'started': False,\n",
    "                     'travelTime': 0, \n",
    "                     'endTime':100000\n",
    "                    } )"
   ]
  },
  {
   "cell_type": "markdown",
   "metadata": {},
   "source": [
    "## Initiate the parameters for the simulation"
   ]
  },
  {
   "cell_type": "code",
   "execution_count": 20,
   "metadata": {},
   "outputs": [],
   "source": [
    "kj=60; \n",
    "uf=10; #in km/5min\n",
    "l=1;\n",
    "\n",
    "r00vals=[100, 140]\n",
    "NstartVals=[12, 22] #start close to the first fixed point to get a realistic estimate of the escape time\n",
    "\n",
    "numTurns=0\n",
    "maxTurns=10 #number of realizations; for the paper, we used maxTurns=500\n",
    "\n",
    "tracks={} #Dictionary to save the simulation output\n",
    "OverfloatTimes=[]\n",
    "StartEvents=[]"
   ]
  },
  {
   "cell_type": "markdown",
   "metadata": {},
   "source": [
    "## Run the simulation"
   ]
  },
  {
   "cell_type": "code",
   "execution_count": 21,
   "metadata": {},
   "outputs": [
    {
     "name": "stdout",
     "output_type": "stream",
     "text": [
      "100\n",
      "Turn: 0\n",
      "Turn: 1\n",
      "Turn: 2\n",
      "Turn: 3\n",
      "Turn: 4\n",
      "Turn: 5\n",
      "Turn: 6\n",
      "Turn: 7\n",
      "Turn: 8\n",
      "Turn: 9\n",
      "140\n",
      "Turn: 0\n",
      "interrupted this turn\n",
      "Turn: 1\n",
      "interrupted this turn\n",
      "Turn: 2\n",
      "interrupted this turn\n",
      "Turn: 3\n",
      "interrupted this turn\n",
      "Turn: 4\n",
      "interrupted this turn\n",
      "Turn: 5\n",
      "interrupted this turn\n",
      "Turn: 6\n",
      "interrupted this turn\n",
      "Turn: 7\n",
      "interrupted this turn\n",
      "Turn: 8\n",
      "interrupted this turn\n",
      "Turn: 9\n",
      "interrupted this turn\n"
     ]
    }
   ],
   "source": [
    "for idx, r_00 in enumerate(r00vals):\n",
    "    print(r_00)\n",
    "    numTurns=0\n",
    "    Nstart=NstartVals[idx]\n",
    "    \n",
    "    tracks.update({r_00: {}})\n",
    "    \n",
    "    while(numTurns < maxTurns): #generate a number maxTurns of realizations\n",
    "        print('Turn:', numTurns)\n",
    "        \n",
    "        currentTime = 0\n",
    "        nextStartEv = 0\n",
    "        maxTime = 100\n",
    "        n = 0\n",
    "        m = 0\n",
    "        tracking=np.zeros((100, 2)) #save the time and the current number of cars on the street\n",
    "        \n",
    "        (carList, deathCarLst, pathDict)=CreateNewGraph(r_00, kj, uf, l, maxTime)\n",
    "        (carList, pathDict)=SetInitialCars(pathDict, carList, Nstart, kj, uf, l, maxTime)\n",
    "        \n",
    "        while(currentTime <= maxTime):\n",
    "            nextCarEv = 2*maxTime\n",
    "            \n",
    "            if len(carList)>=1:\n",
    "                for carIdx, car in enumerate(carList): #scan through list of cars and find the one that will enter or leave next\n",
    "                    if car['nextEvent'] <= nextCarEv:\n",
    "                        nextCarEv = car['nextEvent']\n",
    "                        nextCarEvIdx = carIdx\n",
    "\n",
    "            if nextStartEv < nextCarEv: \n",
    "                currentTime = nextStartEv\n",
    "                generateCar(currentTime) #create car\n",
    "                nextStartEv=getNextStartEv(r_00, currentTime)\n",
    "                StartEvents.append(nextStartEv-currentTime)\n",
    "            \n",
    "                #count the number of cars currently on the street\n",
    "                if n >= tracking.shape[0]:\n",
    "                    tracking=np.resize(tracking,(2*n,2))\n",
    "                \n",
    "                tracking[n][0]=currentTime\n",
    "                tracking[n][1]=pathDict[0]['carsCount']\n",
    "                \n",
    "                n+=1\n",
    "                \n",
    "                #to save computational time, stop the simulation when the street is definitely congested\n",
    "                if pathDict[0]['carsCount'] > 300:\n",
    "                    currentTime=maxTime+1\n",
    "                    print('interrupted this turn') \n",
    "            \n",
    "            else: #continue a trip of a car\n",
    "                currentTime = nextCarEv\n",
    "                carContinue(carList, nextCarEvIdx)\n",
    "\n",
    "    \n",
    "        tracking=np.resize(tracking,(n,2)) # delete empty elements in the tracking matrix\n",
    "        tracks[r_00].update({numTurns: tracking})\n",
    "        numTurns+=1\n"
   ]
  },
  {
   "cell_type": "markdown",
   "metadata": {},
   "source": [
    "## Analyze the outcome"
   ]
  },
  {
   "cell_type": "markdown",
   "metadata": {},
   "source": [
    "To analyze the results, we first adapt the output in such a way, that all street loads above the jamming density are set to kj, which is the street load at which the vehicle velocity drops to zero."
   ]
  },
  {
   "cell_type": "code",
   "execution_count": 22,
   "metadata": {},
   "outputs": [],
   "source": [
    "adapted_tracks=tracks.copy()\n",
    "\n",
    "for r_00 in tracks:\n",
    "    for turn in tracks[r_00]:\n",
    "        for idx, numcars in enumerate(adapted_tracks[r_00][turn][:, 1]):\n",
    "            if numcars > kj:\n",
    "                adapted_tracks[r_00][turn][idx, 1]=kj"
   ]
  },
  {
   "cell_type": "markdown",
   "metadata": {},
   "source": [
    "To find a histogram of the vehicle densities corresponding to several time points in the simulations of the two request rates, we save the results from all realizations in dictionaries for each request rate."
   ]
  },
  {
   "cell_type": "code",
   "execution_count": 33,
   "metadata": {},
   "outputs": [],
   "source": [
    "timevals=np.array([1,5,10,20, 40, 80])\n",
    "corr_times=timevals/5 #as we have simulated in units of 5 minutes\n",
    "\n",
    "timedict_stable={}\n",
    "timedict_unstable={}\n",
    "for time in corr_times:\n",
    "    timedict_stable.update({time: []})\n",
    "    timedict_unstable.update({time:[]})\n",
    "    for turn in range(0, maxTurns):\n",
    "        \n",
    "        corr_idx=np.where(adapted_tracks[r_00vals[0]][turn][:,0] > time)[0][0]\n",
    "        car_density=adapted_tracks[r_00vals[0]][turn][corr_idx,1]\n",
    "        \n",
    "        timedict_stable[time].append(car_density)\n",
    "        \n",
    "        try:\n",
    "            corr_idx_us=np.where(adapted_tracks[r_00vals[1]][turn][:,0] > time)[0][0]\n",
    "            car_density_us=adapted_tracks[r_00vals[1]][turn][corr_idx_us,1]   \n",
    "            \n",
    "        except:\n",
    "            car_density_us=kj\n",
    "            \n",
    "        timedict_unstable[time].append(car_density_us)"
   ]
  },
  {
   "cell_type": "markdown",
   "metadata": {},
   "source": [
    "Now we plot the histograms, together with the predicted stable fixed points which we find from our semi-analytic calculations."
   ]
  },
  {
   "cell_type": "code",
   "execution_count": 34,
   "metadata": {},
   "outputs": [
    {
     "data": {
      "text/plain": [
       "Text(0, 0.5, 'vehicle density')"
      ]
     },
     "execution_count": 34,
     "metadata": {},
     "output_type": "execute_result"
    },
    {
     "data": {
      "image/png": "[encoded data removed]",
      "text/plain": [
       "<Figure size 432x288 with 4 Axes>"
      ]
     },
     "metadata": {
      "needs_background": "light"
     },
     "output_type": "display_data"
    }
   ],
   "source": [
    "fig, axs=plt.subplots(1, 4, sharey=True)\n",
    "\n",
    "axs[0].hist(timedict_stable[1], orientation='horizontal', density=True, label='t=5', color=(0,0,196/255), alpha=0.75)\n",
    "axs[1].hist(timedict_stable[2], orientation='horizontal', density=True, label='t=10', color=(0,0,196/255), alpha=0.75)\n",
    "axs[2].hist(timedict_stable[4], orientation='horizontal', density=True, label='t=20', color=(0,0,196/255), alpha=0.75)\n",
    "axs[3].hist(timedict_stable[16], orientation='horizontal', density=True, label='t=80', color=(0,0,196/255), alpha=0.75)\n",
    "\n",
    "axs[0].plot(np.arange(0, 1.2, 0.01), np.repeat(12.6795, len(np.arange(0, 1.2, 0.01))), '--', color='blue')\n",
    "axs[1].plot(np.arange(0, 1.2, 0.01), np.repeat(12.6795, len(np.arange(0, 1.2, 0.01))), '--', color='blue')\n",
    "axs[2].plot(np.arange(0, 1.2, 0.01), np.repeat(12.6795, len(np.arange(0, 1.2, 0.01))), '--', color='blue')\n",
    "axs[3].plot(np.arange(0, 1.2, 0.01), np.repeat(12.6795, len(np.arange(0, 1.2, 0.01))), '--', color='blue')\n",
    "\n",
    "axs[0].hist(timedict_unstable[1], orientation='horizontal', density=True, bins=20, label='t=5', color=(196/255, 0, 0), alpha=0.75)\n",
    "axs[1].hist(timedict_unstable[2], orientation='horizontal', density=True, bins=20, label='t=10', color=(196/255, 0, 0), alpha=0.75)\n",
    "axs[2].hist(timedict_unstable[4], orientation='horizontal', density=True, bins=20, label='t=20', color=(196/255, 0, 0), alpha=0.75)\n",
    "axs[3].hist(timedict_unstable[16], orientation='horizontal', density=True, bins=20, label='t=80', color=(196/255, 0, 0), alpha=0.75)\n",
    "\n",
    "axs[0].plot(np.arange(0, 1.2, 0.01), np.repeat(22.254, len(np.arange(0, 1.2, 0.01))), '--', color='red')\n",
    "axs[1].plot(np.arange(0, 1.2, 0.01), np.repeat(22.254, len(np.arange(0, 1.2, 0.01))), '--', color='red')\n",
    "axs[2].plot(np.arange(0, 1.2, 0.01), np.repeat(22.254, len(np.arange(0, 1.2, 0.01))), '--', color='red')\n",
    "axs[3].plot(np.arange(0, 1.2, 0.01), np.repeat(22.254, len(np.arange(0, 1.2, 0.01))), '--', color='red')\n",
    "\n",
    "axs[0].set_xlim((0, 0.25))\n",
    "axs[1].set_xlim((0, 0.25))\n",
    "axs[2].set_xlim((0, 0.25))\n",
    "axs[3].set_xlim((0, 0.25))\n",
    "axs[0].set_ylim((0, 60))\n",
    "axs[1].set_ylim((0, 60))\n",
    "axs[2].set_ylim((0, 60))\n",
    "axs[3].set_ylim((0, 60))\n",
    "\n",
    "axs[0].legend()\n",
    "axs[1].legend()\n",
    "axs[2].legend()\n",
    "axs[3].legend()\n",
    "\n",
    "axs[0].set_yticks(np.arange(0,71,20))\n",
    "axs[0].set_xticks(np.arange(0,0.25,0.2))\n",
    "axs[0].set_yticklabels(np.arange(0,71,20), fontsize=14)\n",
    "axs[0].set_xticklabels([0, 0.2], fontsize=14)\n",
    "\n",
    "axs[1].set_yticks(np.arange(0,71,20))\n",
    "axs[1].set_xticks(np.arange(0,0.25,0.2))\n",
    "axs[1].set_yticklabels(np.arange(0,71,20), fontsize=14)\n",
    "axs[1].set_xticklabels([0, 0.2], fontsize=14)\n",
    "\n",
    "axs[2].set_yticks(np.arange(0,71,20))\n",
    "axs[2].set_xticks(np.arange(0,0.25,0.2))\n",
    "axs[2].set_yticklabels(np.arange(0,71,20), fontsize=14)\n",
    "axs[2].set_xticklabels([0, 0.2], fontsize=14)\n",
    "\n",
    "axs[3].set_yticks(np.arange(0,71,20))\n",
    "axs[3].set_xticks(np.arange(0,0.25,0.2))\n",
    "axs[3].set_yticklabels(np.arange(0,71,20), fontsize=14)\n",
    "axs[3].set_xticklabels([0, 0.2], fontsize=14)\n",
    "\n",
    "axs[0].set_ylabel(\"vehicle density\", fontsize=14)"
   ]
  },
  {
   "cell_type": "markdown",
   "metadata": {},
   "source": [
    "We can also display the vehicle densities as a function of time for specific realizations:"
   ]
  },
  {
   "cell_type": "code",
   "execution_count": 39,
   "metadata": {},
   "outputs": [
    {
     "data": {
      "text/plain": [
       "<matplotlib.legend.Legend at 0x11082d9d488>"
      ]
     },
     "execution_count": 39,
     "metadata": {},
     "output_type": "execute_result"
    },
    {
     "data": {
      "image/png": "[encoded data removed]",
      "text/plain": [
       "<Figure size 432x288 with 1 Axes>"
      ]
     },
     "metadata": {
      "needs_background": "light"
     },
     "output_type": "display_data"
    }
   ],
   "source": [
    "run=0\n",
    "\n",
    "fig, ax = plt.subplots()\n",
    "plt.plot(adapted_tracks[r_00vals[0]][run][:,0], adapted_tracks[r_00vals[0]][run][:,1], '-', color=(0,0,196/255), label='flow 20, sim')\n",
    "plt.plot(adapted_tracks[r_00vals[1]][run][:,0], adapted_tracks[r_00vals[1]][run][:,1], '-', color=(196/255, 0, 0), label='flow 28, sim')\n",
    "plt.plot(adapted_tracks[r_00vals[0]][run][:,0], np.repeat(12.6795, len(adapted_tracks[r_00vals[0]][run][:,0])), 'b--', label='flow 20, pred')\n",
    "plt.plot(np.arange(0, 40, 0.01), np.repeat(22.254, len(np.arange(0, 40, 0.01))), 'r--', label='flow 28, pred')\n",
    "\n",
    "plt.plot(np.arange(0, 40, 0.01), np.repeat(30, len(np.arange(0, 40, 0.01))), linestyle='--',color='grey', label='critical density')\n",
    "\n",
    "plt.xlim((0,20))\n",
    "plt.ylim((0,60))\n",
    "\n",
    "plt.xlabel('time', fontsize=14)\n",
    "plt.ylabel('vehicle density', fontsize=14)\n",
    "\n",
    "ax.set_yticks(np.arange(0,65,20))\n",
    "ax.set_xticks(np.arange(0,30,10))\n",
    "\n",
    "ax.set_yticklabels(np.arange(0,65,20), fontsize=14)\n",
    "ax.set_xticklabels(np.arange(0,150,50), fontsize=14)\n",
    "\n",
    "plt.legend()"
   ]
  },
  {
   "cell_type": "code",
   "execution_count": null,
   "metadata": {},
   "outputs": [],
   "source": []
  }
 ],
 "metadata": {
  "kernelspec": {
   "display_name": "Python 3",
   "language": "python",
   "name": "python3"
  },
  "language_info": {
   "codemirror_mode": {
    "name": "ipython",
    "version": 3
   },
   "file_extension": ".py",
   "mimetype": "text/x-python",
   "name": "python",
   "nbconvert_exporter": "python",
   "pygments_lexer": "ipython3",
   "version": "3.7.4"
  }
 },
 "nbformat": 4,
 "nbformat_minor": 2
}
